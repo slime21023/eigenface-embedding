{
 "cells": [
  {
   "cell_type": "code",
   "execution_count": 1,
   "metadata": {},
   "outputs": [
    {
     "name": "stdout",
     "output_type": "stream",
     "text": [
      "WARNING:tensorflow:From c:\\anaconda\\envs\\py39\\lib\\site-packages\\keras\\src\\losses.py:2976: The name tf.losses.sparse_softmax_cross_entropy is deprecated. Please use tf.compat.v1.losses.sparse_softmax_cross_entropy instead.\n",
      "\n"
     ]
    }
   ],
   "source": [
    "import tensorflow as tf\n",
    "from tensorflow.keras import datasets, layers, models\n",
    "import matplotlib.pyplot as plt"
   ]
  },
  {
   "cell_type": "code",
   "execution_count": 2,
   "metadata": {},
   "outputs": [
    {
     "name": "stdout",
     "output_type": "stream",
     "text": [
      "(120, 90, 3)\n",
      "[[[0.3372549  0.24313725 0.13333333]\n",
      "  [0.34901961 0.25490196 0.14509804]\n",
      "  [0.36862745 0.2627451  0.15686275]\n",
      "  ...\n",
      "  [0.26666667 0.18039216 0.1372549 ]\n",
      "  [0.24313725 0.16470588 0.1372549 ]\n",
      "  [0.23921569 0.16470588 0.1372549 ]]\n",
      "\n",
      " [[0.33333333 0.23137255 0.1254902 ]\n",
      "  [0.34117647 0.23921569 0.13333333]\n",
      "  [0.35686275 0.25098039 0.14509804]\n",
      "  ...\n",
      "  [0.27843137 0.18431373 0.14509804]\n",
      "  [0.25490196 0.17647059 0.14117647]\n",
      "  [0.25490196 0.18039216 0.15294118]]\n",
      "\n",
      " [[0.3254902  0.21960784 0.11372549]\n",
      "  [0.3372549  0.23137255 0.1254902 ]\n",
      "  [0.35686275 0.23921569 0.12941176]\n",
      "  ...\n",
      "  [0.29411765 0.2        0.16078431]\n",
      "  [0.28235294 0.19215686 0.16078431]\n",
      "  [0.27843137 0.2        0.16470588]]\n",
      "\n",
      " ...\n",
      "\n",
      " [[0.66666667 0.69019608 0.75294118]\n",
      "  [0.66666667 0.69019608 0.74509804]\n",
      "  [0.61960784 0.64313725 0.69803922]\n",
      "  ...\n",
      "  [0.34901961 0.35294118 0.33333333]\n",
      "  [0.39215686 0.39215686 0.38431373]\n",
      "  [0.39607843 0.40392157 0.39215686]]\n",
      "\n",
      " [[0.67058824 0.69803922 0.76862745]\n",
      "  [0.67058824 0.69803922 0.76078431]\n",
      "  [0.63137255 0.65882353 0.72156863]\n",
      "  ...\n",
      "  [0.35294118 0.35686275 0.3372549 ]\n",
      "  [0.40392157 0.40392157 0.39607843]\n",
      "  [0.40784314 0.41568627 0.40392157]]\n",
      "\n",
      " [[0.6745098  0.70196078 0.77254902]\n",
      "  [0.68235294 0.70980392 0.78039216]\n",
      "  [0.65098039 0.67843137 0.74117647]\n",
      "  ...\n",
      "  [0.37254902 0.37647059 0.35686275]\n",
      "  [0.4        0.4        0.39215686]\n",
      "  [0.40392157 0.41176471 0.4       ]]]\n",
      "(384,)\n"
     ]
    }
   ],
   "source": [
    "# load image data \n",
    "import os\n",
    "import numpy as np\n",
    "import h5py\n",
    "import cv2 as cv\n",
    "resized_path = \"../data/prepare/resized\"\n",
    "\n",
    "def load_img(image_name):\n",
    "    file_path = os.path.join(resized_path, image_name)\n",
    "    img = cv.imread(file_path)\n",
    "    img_rgb = cv.cvtColor(img, cv.COLOR_BGR2RGB)\n",
    "    return img_rgb\n",
    "\n",
    "images = [ load_img(name) for name in os.listdir(resized_path)]\n",
    "print(images[0].shape)\n",
    "\n",
    "# Normalize pixel values to be between 0 and 1\n",
    "images_mat = np.asarray(images)\n",
    "images_mat = images_mat / 255.0\n",
    "print(images_mat[0])\n",
    "images_mat.shape\n",
    "\n",
    "\n",
    "# load embedding data\n",
    "h5f = h5py.File('../data/eigenface_embeds.h5','r')\n",
    "train_embeds = np.copy(h5f['embeds'])\n",
    "print(train_embeds[0].shape)\n",
    "h5f.close()\n"
   ]
  },
  {
   "cell_type": "code",
   "execution_count": 3,
   "metadata": {},
   "outputs": [
    {
     "name": "stdout",
     "output_type": "stream",
     "text": [
      "WARNING:tensorflow:From c:\\anaconda\\envs\\py39\\lib\\site-packages\\keras\\src\\backend.py:873: The name tf.get_default_graph is deprecated. Please use tf.compat.v1.get_default_graph instead.\n",
      "\n",
      "WARNING:tensorflow:From c:\\anaconda\\envs\\py39\\lib\\site-packages\\keras\\src\\layers\\pooling\\max_pooling2d.py:161: The name tf.nn.max_pool is deprecated. Please use tf.nn.max_pool2d instead.\n",
      "\n",
      "Model: \"sequential\"\n",
      "_________________________________________________________________\n",
      " Layer (type)                Output Shape              Param #   \n",
      "=================================================================\n",
      " conv2d (Conv2D)             (None, 118, 88, 32)       896       \n",
      "                                                                 \n",
      " max_pooling2d (MaxPooling2  (None, 59, 44, 32)        0         \n",
      " D)                                                              \n",
      "                                                                 \n",
      " conv2d_1 (Conv2D)           (None, 57, 42, 64)        18496     \n",
      "                                                                 \n",
      " max_pooling2d_1 (MaxPoolin  (None, 28, 21, 64)        0         \n",
      " g2D)                                                            \n",
      "                                                                 \n",
      " conv2d_2 (Conv2D)           (None, 26, 19, 64)        36928     \n",
      "                                                                 \n",
      " flatten (Flatten)           (None, 31616)             0         \n",
      "                                                                 \n",
      " dense (Dense)               (None, 64)                2023488   \n",
      "                                                                 \n",
      " dense_1 (Dense)             (None, 384)               24960     \n",
      "                                                                 \n",
      "=================================================================\n",
      "Total params: 2104768 (8.03 MB)\n",
      "Trainable params: 2104768 (8.03 MB)\n",
      "Non-trainable params: 0 (0.00 Byte)\n",
      "_________________________________________________________________\n"
     ]
    }
   ],
   "source": [
    "# Keras model\n",
    "\n",
    "model = models.Sequential()\n",
    "model.add(layers.InputLayer(input_shape=(120, 90, 3)))\n",
    "model.add(layers.Conv2D(32, (3, 3), activation='relu', input_shape=(120, 90, 3)))\n",
    "model.add(layers.MaxPooling2D((2, 2)))\n",
    "model.add(layers.Conv2D(64, (3, 3), activation='relu'))\n",
    "model.add(layers.MaxPooling2D((2, 2)))\n",
    "model.add(layers.Conv2D(64, (3, 3), activation='relu'))\n",
    "model.add(layers.Flatten())\n",
    "model.add(layers.Dense(64, activation='relu'))\n",
    "model.add(layers.Dense(384))\n",
    "\n",
    "model.summary()"
   ]
  },
  {
   "cell_type": "code",
   "execution_count": 4,
   "metadata": {},
   "outputs": [
    {
     "name": "stderr",
     "output_type": "stream",
     "text": [
      "c:\\anaconda\\envs\\py39\\lib\\site-packages\\keras\\src\\optimizers\\legacy\\gradient_descent.py:114: UserWarning: The `lr` argument is deprecated, use `learning_rate` instead.\n",
      "  super().__init__(name, **kwargs)\n"
     ]
    },
    {
     "name": "stdout",
     "output_type": "stream",
     "text": [
      "Epoch 1/50\n",
      "WARNING:tensorflow:From c:\\anaconda\\envs\\py39\\lib\\site-packages\\keras\\src\\utils\\tf_utils.py:492: The name tf.ragged.RaggedTensorValue is deprecated. Please use tf.compat.v1.ragged.RaggedTensorValue instead.\n",
      "\n",
      "575/575 [==============================] - 10s 17ms/step - loss: 0.1594 - val_loss: 0.1533\n",
      "Epoch 2/50\n",
      "575/575 [==============================] - 9s 16ms/step - loss: 0.1527 - val_loss: 0.1499\n",
      "Epoch 3/50\n",
      "575/575 [==============================] - 9s 16ms/step - loss: 0.1503 - val_loss: 0.1484\n",
      "Epoch 4/50\n",
      "575/575 [==============================] - 9s 16ms/step - loss: 0.1491 - val_loss: 0.1472\n",
      "Epoch 5/50\n",
      "575/575 [==============================] - 9s 16ms/step - loss: 0.1475 - val_loss: 0.1458\n",
      "Epoch 6/50\n",
      "575/575 [==============================] - 9s 16ms/step - loss: 0.1466 - val_loss: 0.1451\n",
      "Epoch 7/50\n",
      "575/575 [==============================] - 9s 16ms/step - loss: 0.1460 - val_loss: 0.1446\n",
      "Epoch 8/50\n",
      "575/575 [==============================] - 9s 16ms/step - loss: 0.1456 - val_loss: 0.1443\n",
      "Epoch 9/50\n",
      "575/575 [==============================] - 9s 16ms/step - loss: 0.1454 - val_loss: 0.1442\n",
      "Epoch 10/50\n",
      "575/575 [==============================] - 9s 16ms/step - loss: 0.1453 - val_loss: 0.1441\n",
      "Epoch 11/50\n",
      "575/575 [==============================] - 9s 16ms/step - loss: 0.1451 - val_loss: 0.1440\n",
      "Epoch 12/50\n",
      "575/575 [==============================] - 9s 16ms/step - loss: 0.1450 - val_loss: 0.1439\n",
      "Epoch 13/50\n",
      "575/575 [==============================] - 9s 16ms/step - loss: 0.1450 - val_loss: 0.1438\n",
      "Epoch 14/50\n",
      "575/575 [==============================] - 9s 16ms/step - loss: 0.1449 - val_loss: 0.1438\n",
      "Epoch 15/50\n",
      "575/575 [==============================] - 9s 16ms/step - loss: 0.1449 - val_loss: 0.1438\n",
      "Epoch 16/50\n",
      "575/575 [==============================] - 9s 16ms/step - loss: 0.1449 - val_loss: 0.1437\n",
      "Epoch 17/50\n",
      "575/575 [==============================] - 9s 16ms/step - loss: 0.1448 - val_loss: 0.1437\n",
      "Epoch 18/50\n",
      "575/575 [==============================] - 10s 17ms/step - loss: 0.1448 - val_loss: 0.1437\n",
      "Epoch 19/50\n",
      "575/575 [==============================] - 9s 16ms/step - loss: 0.1448 - val_loss: 0.1437\n",
      "Epoch 20/50\n",
      "575/575 [==============================] - 9s 16ms/step - loss: 0.1447 - val_loss: 0.1437\n",
      "Epoch 21/50\n",
      "575/575 [==============================] - 9s 16ms/step - loss: 0.1447 - val_loss: 0.1436\n",
      "Epoch 22/50\n",
      "575/575 [==============================] - 9s 16ms/step - loss: 0.1447 - val_loss: 0.1436\n",
      "Epoch 23/50\n",
      "575/575 [==============================] - 9s 16ms/step - loss: 0.1447 - val_loss: 0.1436\n",
      "Epoch 24/50\n",
      "575/575 [==============================] - 10s 17ms/step - loss: 0.1446 - val_loss: 0.1436\n",
      "Epoch 25/50\n",
      "575/575 [==============================] - 11s 19ms/step - loss: 0.1446 - val_loss: 0.1435\n",
      "Epoch 26/50\n",
      "575/575 [==============================] - 10s 17ms/step - loss: 0.1446 - val_loss: 0.1435\n",
      "Epoch 27/50\n",
      "575/575 [==============================] - 9s 16ms/step - loss: 0.1446 - val_loss: 0.1435\n",
      "Epoch 28/50\n",
      "575/575 [==============================] - 9s 16ms/step - loss: 0.1446 - val_loss: 0.1435\n",
      "Epoch 29/50\n",
      "575/575 [==============================] - 9s 16ms/step - loss: 0.1445 - val_loss: 0.1435\n",
      "Epoch 30/50\n",
      "575/575 [==============================] - 10s 17ms/step - loss: 0.1445 - val_loss: 0.1434\n",
      "Epoch 31/50\n",
      "575/575 [==============================] - 9s 16ms/step - loss: 0.1445 - val_loss: 0.1434\n",
      "Epoch 32/50\n",
      "575/575 [==============================] - 9s 16ms/step - loss: 0.1445 - val_loss: 0.1434\n",
      "Epoch 33/50\n",
      "575/575 [==============================] - 9s 16ms/step - loss: 0.1445 - val_loss: 0.1434\n",
      "Epoch 34/50\n",
      "575/575 [==============================] - 9s 16ms/step - loss: 0.1444 - val_loss: 0.1434\n",
      "Epoch 35/50\n",
      "575/575 [==============================] - 10s 17ms/step - loss: 0.1444 - val_loss: 0.1434\n",
      "Epoch 36/50\n",
      "575/575 [==============================] - 9s 16ms/step - loss: 0.1444 - val_loss: 0.1433\n",
      "Epoch 37/50\n",
      "575/575 [==============================] - 9s 16ms/step - loss: 0.1444 - val_loss: 0.1433\n",
      "Epoch 38/50\n",
      "575/575 [==============================] - 9s 16ms/step - loss: 0.1444 - val_loss: 0.1433\n",
      "Epoch 39/50\n",
      "575/575 [==============================] - 9s 15ms/step - loss: 0.1443 - val_loss: 0.1433\n",
      "Epoch 40/50\n",
      "575/575 [==============================] - 9s 16ms/step - loss: 0.1443 - val_loss: 0.1433\n",
      "Epoch 41/50\n",
      "575/575 [==============================] - 9s 16ms/step - loss: 0.1443 - val_loss: 0.1432\n",
      "Epoch 42/50\n",
      "575/575 [==============================] - 9s 16ms/step - loss: 0.1443 - val_loss: 0.1432\n",
      "Epoch 43/50\n",
      "575/575 [==============================] - 10s 17ms/step - loss: 0.1443 - val_loss: 0.1432\n",
      "Epoch 44/50\n",
      "575/575 [==============================] - 10s 18ms/step - loss: 0.1442 - val_loss: 0.1432\n",
      "Epoch 45/50\n",
      "575/575 [==============================] - 9s 16ms/step - loss: 0.1442 - val_loss: 0.1432\n",
      "Epoch 46/50\n",
      "575/575 [==============================] - 10s 17ms/step - loss: 0.1442 - val_loss: 0.1432\n",
      "Epoch 47/50\n",
      "575/575 [==============================] - 10s 18ms/step - loss: 0.1442 - val_loss: 0.1431\n",
      "Epoch 48/50\n",
      "575/575 [==============================] - 9s 17ms/step - loss: 0.1442 - val_loss: 0.1431\n",
      "Epoch 49/50\n",
      "575/575 [==============================] - 9s 16ms/step - loss: 0.1441 - val_loss: 0.1430\n",
      "Epoch 50/50\n",
      "575/575 [==============================] - 10s 17ms/step - loss: 0.1440 - val_loss: 0.1429\n"
     ]
    }
   ],
   "source": [
    "loss = tf.keras.losses.MeanSquaredLogarithmicError()\n",
    "# opt = tf.keras.optimizers.AdamW(\n",
    "#     learning_rate=0.001,\n",
    "#     weight_decay=0.004,\n",
    "# )\n",
    "\n",
    "opt = tf.keras.optimizers.legacy.SGD(lr=0.01, momentum=0.0, decay=0.0, nesterov=False)\n",
    "\n",
    "model.compile(\n",
    "    optimizer=opt, loss=loss\n",
    ")\n",
    "\n",
    "train_imgs = images_mat\n",
    "history = model.fit(\n",
    "    train_imgs, train_embeds, \n",
    "    batch_size=5,\n",
    "    epochs=50, \n",
    "    # Suppress logging.\n",
    "    # verbose=0,\n",
    "    # Calculate validation results on 20% of the training data.\n",
    "    validation_split = 0.5,\n",
    ")\n"
   ]
  },
  {
   "cell_type": "code",
   "execution_count": 7,
   "metadata": {},
   "outputs": [
    {
     "data": {
      "image/png": "[encoded data removed]",
      "text/plain": [
       "<Figure size 640x480 with 1 Axes>"
      ]
     },
     "metadata": {},
     "output_type": "display_data"
    }
   ],
   "source": [
    "def plot_loss(history):\n",
    "    plt.plot(history.history[\"loss\"], label=\"loss\")\n",
    "    plt.plot(history.history[\"val_loss\"], label=\"val_loss\")\n",
    "    plt.ylim([0, 0.175])\n",
    "    plt.xlabel(\"Epoch\")\n",
    "    plt.ylabel(\"Error [MPG]\")\n",
    "    plt.legend()\n",
    "    plt.grid(True)\n",
    "\n",
    "\n",
    "plot_loss(history)\n"
   ]
  },
  {
   "cell_type": "code",
   "execution_count": 13,
   "metadata": {},
   "outputs": [
    {
     "ename": "ValueError",
     "evalue": "in user code:\n\n    File \"c:\\anaconda\\envs\\py39\\lib\\site-packages\\keras\\src\\engine\\training.py\", line 2440, in predict_function  *\n        return step_function(self, iterator)\n    File \"c:\\anaconda\\envs\\py39\\lib\\site-packages\\keras\\src\\engine\\training.py\", line 2425, in step_function  **\n        outputs = model.distribute_strategy.run(run_step, args=(data,))\n    File \"c:\\anaconda\\envs\\py39\\lib\\site-packages\\keras\\src\\engine\\training.py\", line 2413, in run_step  **\n        outputs = model.predict_step(data)\n    File \"c:\\anaconda\\envs\\py39\\lib\\site-packages\\keras\\src\\engine\\training.py\", line 2381, in predict_step\n        return self(x, training=False)\n    File \"c:\\anaconda\\envs\\py39\\lib\\site-packages\\keras\\src\\utils\\traceback_utils.py\", line 70, in error_handler\n        raise e.with_traceback(filtered_tb) from None\n    File \"c:\\anaconda\\envs\\py39\\lib\\site-packages\\keras\\src\\engine\\input_spec.py\", line 298, in assert_input_compatibility\n        raise ValueError(\n\n    ValueError: Input 0 of layer \"sequential\" is incompatible with the layer: expected shape=(None, 120, 90, 3), found shape=(None, 90, 3)\n",
     "output_type": "error",
     "traceback": [
      "\u001b[1;31m---------------------------------------------------------------------------\u001b[0m",
      "\u001b[1;31mValueError\u001b[0m                                Traceback (most recent call last)",
      "Cell \u001b[1;32mIn[13], line 1\u001b[0m\n\u001b[1;32m----> 1\u001b[0m \u001b[43mmodel\u001b[49m\u001b[38;5;241;43m.\u001b[39;49m\u001b[43mpredict\u001b[49m\u001b[43m(\u001b[49m\u001b[43mtrain_imgs\u001b[49m\u001b[43m[\u001b[49m\u001b[38;5;241;43m0\u001b[39;49m\u001b[43m]\u001b[49m\u001b[43m)\u001b[49m\n",
      "File \u001b[1;32mc:\\anaconda\\envs\\py39\\lib\\site-packages\\keras\\src\\utils\\traceback_utils.py:70\u001b[0m, in \u001b[0;36mfilter_traceback.<locals>.error_handler\u001b[1;34m(*args, **kwargs)\u001b[0m\n\u001b[0;32m     67\u001b[0m     filtered_tb \u001b[38;5;241m=\u001b[39m _process_traceback_frames(e\u001b[38;5;241m.\u001b[39m__traceback__)\n\u001b[0;32m     68\u001b[0m     \u001b[38;5;66;03m# To get the full stack trace, call:\u001b[39;00m\n\u001b[0;32m     69\u001b[0m     \u001b[38;5;66;03m# `tf.debugging.disable_traceback_filtering()`\u001b[39;00m\n\u001b[1;32m---> 70\u001b[0m     \u001b[38;5;28;01mraise\u001b[39;00m e\u001b[38;5;241m.\u001b[39mwith_traceback(filtered_tb) \u001b[38;5;28;01mfrom\u001b[39;00m \u001b[38;5;28;01mNone\u001b[39;00m\n\u001b[0;32m     71\u001b[0m \u001b[38;5;28;01mfinally\u001b[39;00m:\n\u001b[0;32m     72\u001b[0m     \u001b[38;5;28;01mdel\u001b[39;00m filtered_tb\n",
      "File \u001b[1;32m~\\AppData\\Local\\Temp\\__autograph_generated_file5flnbvm4.py:15\u001b[0m, in \u001b[0;36mouter_factory.<locals>.inner_factory.<locals>.tf__predict_function\u001b[1;34m(iterator)\u001b[0m\n\u001b[0;32m     13\u001b[0m \u001b[38;5;28;01mtry\u001b[39;00m:\n\u001b[0;32m     14\u001b[0m     do_return \u001b[38;5;241m=\u001b[39m \u001b[38;5;28;01mTrue\u001b[39;00m\n\u001b[1;32m---> 15\u001b[0m     retval_ \u001b[38;5;241m=\u001b[39m ag__\u001b[38;5;241m.\u001b[39mconverted_call(ag__\u001b[38;5;241m.\u001b[39mld(step_function), (ag__\u001b[38;5;241m.\u001b[39mld(\u001b[38;5;28mself\u001b[39m), ag__\u001b[38;5;241m.\u001b[39mld(iterator)), \u001b[38;5;28;01mNone\u001b[39;00m, fscope)\n\u001b[0;32m     16\u001b[0m \u001b[38;5;28;01mexcept\u001b[39;00m:\n\u001b[0;32m     17\u001b[0m     do_return \u001b[38;5;241m=\u001b[39m \u001b[38;5;28;01mFalse\u001b[39;00m\n",
      "\u001b[1;31mValueError\u001b[0m: in user code:\n\n    File \"c:\\anaconda\\envs\\py39\\lib\\site-packages\\keras\\src\\engine\\training.py\", line 2440, in predict_function  *\n        return step_function(self, iterator)\n    File \"c:\\anaconda\\envs\\py39\\lib\\site-packages\\keras\\src\\engine\\training.py\", line 2425, in step_function  **\n        outputs = model.distribute_strategy.run(run_step, args=(data,))\n    File \"c:\\anaconda\\envs\\py39\\lib\\site-packages\\keras\\src\\engine\\training.py\", line 2413, in run_step  **\n        outputs = model.predict_step(data)\n    File \"c:\\anaconda\\envs\\py39\\lib\\site-packages\\keras\\src\\engine\\training.py\", line 2381, in predict_step\n        return self(x, training=False)\n    File \"c:\\anaconda\\envs\\py39\\lib\\site-packages\\keras\\src\\utils\\traceback_utils.py\", line 70, in error_handler\n        raise e.with_traceback(filtered_tb) from None\n    File \"c:\\anaconda\\envs\\py39\\lib\\site-packages\\keras\\src\\engine\\input_spec.py\", line 298, in assert_input_compatibility\n        raise ValueError(\n\n    ValueError: Input 0 of layer \"sequential\" is incompatible with the layer: expected shape=(None, 120, 90, 3), found shape=(None, 90, 3)\n"
     ]
    }
   ],
   "source": [
    "model.predict(train_imgs[0])\n"
   ]
  }
 ],
 "metadata": {
  "kernelspec": {
   "display_name": "py39",
   "language": "python",
   "name": "python3"
  },
  "language_info": {
   "codemirror_mode": {
    "name": "ipython",
    "version": 3
   },
   "file_extension": ".py",
   "mimetype": "text/x-python",
   "name": "python",
   "nbconvert_exporter": "python",
   "pygments_lexer": "ipython3",
   "version": "3.9.18"
  }
 },
 "nbformat": 4,
 "nbformat_minor": 2
}
