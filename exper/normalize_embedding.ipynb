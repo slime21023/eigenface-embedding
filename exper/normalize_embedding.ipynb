{
 "cells": [
  {
   "cell_type": "code",
   "execution_count": 1,
   "metadata": {},
   "outputs": [],
   "source": [
    "import sys\n",
    "sys.path.append('..')"
   ]
  },
  {
   "cell_type": "code",
   "execution_count": 2,
   "metadata": {},
   "outputs": [],
   "source": [
    "import src.dataset as dataset\n",
    "from src.eigenface.pca import FacePCA\n",
    "\n",
    "pca = FacePCA(gray=True)"
   ]
  },
  {
   "cell_type": "code",
   "execution_count": 3,
   "metadata": {},
   "outputs": [],
   "source": [
    "pca.save_embedding('../dataset/eigenface_embeds.h5')\n",
    "pca.to_onnx('../onnx/pca.onnx')"
   ]
  },
  {
   "cell_type": "code",
   "execution_count": 4,
   "metadata": {},
   "outputs": [
    {
     "name": "stdout",
     "output_type": "stream",
     "text": [
      "face_features variable\n"
     ]
    }
   ],
   "source": [
    "import onnxruntime as rt\n",
    "\n",
    "sess = rt.InferenceSession(\"../onnx/pca.onnx\", providers=[\"CPUExecutionProvider\"])\n",
    "input_name = sess.get_inputs()[0].name\n",
    "label_name = sess.get_outputs()[0].name\n",
    "\n",
    "print(input_name, label_name)"
   ]
  },
  {
   "cell_type": "code",
   "execution_count": 5,
   "metadata": {},
   "outputs": [
    {
     "name": "stdout",
     "output_type": "stream",
     "text": [
      "(1, 384)\n",
      "(1, 384)\n"
     ]
    }
   ],
   "source": [
    "import numpy as np\n",
    "from sklearn.preprocessing import normalize\n",
    "\n",
    "X = dataset.load(gray=True)\n",
    "sample = X[0].astype(np.float32).reshape(1, -1)\n",
    "\n",
    "pred = sess.run([label_name], {input_name: sample})[0]\n",
    "print(pred.shape)\n",
    "print(normalize(pred).shape)"
   ]
  },
  {
   "cell_type": "code",
   "execution_count": 6,
   "metadata": {},
   "outputs": [
    {
     "name": "stdout",
     "output_type": "stream",
     "text": [
      "(384,)\n",
      "1.0\n"
     ]
    }
   ],
   "source": [
    "import h5py\n",
    "from numpy import linalg as LA\n",
    "\n",
    "# load embedding data\n",
    "h5f = h5py.File('../dataset/eigenface_embeds.h5','r')\n",
    "train_embeds = np.copy(h5f['embeds'])\n",
    "print(train_embeds[0].shape)\n",
    "print(LA.norm(train_embeds[0]))\n",
    "h5f.close()"
   ]
  },
  {
   "cell_type": "code",
   "execution_count": 7,
   "metadata": {},
   "outputs": [
    {
     "name": "stdout",
     "output_type": "stream",
     "text": [
      "(384,) (384,)\n"
     ]
    },
    {
     "data": {
      "text/plain": [
       "0.8825054476692247"
      ]
     },
     "execution_count": 7,
     "metadata": {},
     "output_type": "execute_result"
    }
   ],
   "source": [
    "\n",
    "def cosine_similarity(A, B):\n",
    "    return np.dot(A,B)/(LA.norm(A)* LA.norm(B))\n",
    "\n",
    "a, b = train_embeds[0].reshape(-1), normalize(pred).reshape(-1)\n",
    "print(a.shape, b.shape)\n",
    "cosine_similarity(a, b)"
   ]
  }
 ],
 "metadata": {
  "kernelspec": {
   "display_name": "py39",
   "language": "python",
   "name": "python3"
  },
  "language_info": {
   "codemirror_mode": {
    "name": "ipython",
    "version": 3
   },
   "file_extension": ".py",
   "mimetype": "text/x-python",
   "name": "python",
   "nbconvert_exporter": "python",
   "pygments_lexer": "ipython3",
   "version": "3.9.18"
  }
 },
 "nbformat": 4,
 "nbformat_minor": 2
}
